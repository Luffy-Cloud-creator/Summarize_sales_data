{
  "nbformat": 4,
  "nbformat_minor": 0,
  "metadata": {
    "colab": {
      "provenance": [],
      "authorship_tag": "ABX9TyNUhLneuUkMsqOLLVU4ZN98",
      "include_colab_link": true
    },
    "kernelspec": {
      "name": "python3",
      "display_name": "Python 3"
    },
    "language_info": {
      "name": "python"
    }
  },
  "cells": [
    {
      "cell_type": "markdown",
      "metadata": {
        "id": "view-in-github",
        "colab_type": "text"
      },
      "source": [
        "<a href=\"https://colab.research.google.com/github/Luffy-Cloud-creator/Summarize_sales_data/blob/main/Summary_data.ipynb\" target=\"_parent\"><img src=\"https://colab.research.google.com/assets/colab-badge.svg\" alt=\"Open In Colab\"/></a>"
      ]
    },
    {
      "cell_type": "code",
      "execution_count": null,
      "metadata": {
        "colab": {
          "base_uri": "https://localhost:8080/"
        },
        "id": "B5kmzZqj2Avz",
        "outputId": "cf7a8d12-1150-43cb-9bc1-c3cebb21729d"
      },
      "outputs": [
        {
          "output_type": "stream",
          "name": "stdout",
          "text": [
            "Requirement already satisfied: pyspark in /usr/local/lib/python3.11/dist-packages (3.5.1)\n",
            "Requirement already satisfied: py4j==0.10.9.7 in /usr/local/lib/python3.11/dist-packages (from pyspark) (0.10.9.7)\n"
          ]
        }
      ],
      "source": [
        "!pip install pyspark"
      ]
    },
    {
      "cell_type": "code",
      "source": [
        "import pyspark\n",
        "from pyspark.sql import SparkSession\n",
        "from pyspark.sql.functions import *\n",
        "from pyspark.sql.types import *\n",
        "from pyspark.sql.window import Window"
      ],
      "metadata": {
        "id": "GQE18jSN2H3D"
      },
      "execution_count": null,
      "outputs": []
    },
    {
      "cell_type": "code",
      "source": [
        "spark = SparkSession.builder.appName('DF').getOrCreate()\n",
        "spark"
      ],
      "metadata": {
        "colab": {
          "base_uri": "https://localhost:8080/",
          "height": 219
        },
        "id": "iRvcgMd52YWk",
        "outputId": "83bbf955-04de-49ae-8aed-de0b925daf5e"
      },
      "execution_count": null,
      "outputs": [
        {
          "output_type": "execute_result",
          "data": {
            "text/plain": [
              "<pyspark.sql.session.SparkSession at 0x7c8ed824a750>"
            ],
            "text/html": [
              "\n",
              "            <div>\n",
              "                <p><b>SparkSession - in-memory</b></p>\n",
              "                \n",
              "        <div>\n",
              "            <p><b>SparkContext</b></p>\n",
              "\n",
              "            <p><a href=\"http://bf29dea0b16c:4040\">Spark UI</a></p>\n",
              "\n",
              "            <dl>\n",
              "              <dt>Version</dt>\n",
              "                <dd><code>v3.5.1</code></dd>\n",
              "              <dt>Master</dt>\n",
              "                <dd><code>local[*]</code></dd>\n",
              "              <dt>AppName</dt>\n",
              "                <dd><code>DF</code></dd>\n",
              "            </dl>\n",
              "        </div>\n",
              "        \n",
              "            </div>\n",
              "        "
            ]
          },
          "metadata": {},
          "execution_count": 5
        }
      ]
    },
    {
      "cell_type": "code",
      "source": [
        "df= spark.read.csv('/content/AmazonSalesData.csv',header= True, inferSchema= True)\n",
        "df.show()"
      ],
      "metadata": {
        "colab": {
          "base_uri": "https://localhost:8080/"
        },
        "id": "qN6nQoZ223u6",
        "outputId": "bbf817f7-208e-4fc5-b4a5-6f99f5286e3c"
      },
      "execution_count": null,
      "outputs": [
        {
          "output_type": "stream",
          "name": "stdout",
          "text": [
            "+--------------------+--------------------+---------------+-------------+--------------+----------+---------+----------+----------+----------+---------+-------------+----------+------------+\n",
            "|              Region|             Country|      Item Type|Sales Channel|Order Priority|Order Date| Order ID| Ship Date|Units Sold|Unit Price|Unit Cost|Total Revenue|Total Cost|Total Profit|\n",
            "+--------------------+--------------------+---------------+-------------+--------------+----------+---------+----------+----------+----------+---------+-------------+----------+------------+\n",
            "|Australia and Oce...|              Tuvalu|      Baby Food|      Offline|             H| 5/28/2010|669165933| 6/27/2010|      9925|    255.28|   159.42|    2533654.0| 1582243.5|    951410.5|\n",
            "|Central America a...|             Grenada|         Cereal|       Online|             C| 8/22/2012|963881480| 9/15/2012|      2804|     205.7|   117.11|     576782.8| 328376.44|   248406.36|\n",
            "|              Europe|              Russia|Office Supplies|      Offline|             L|  5/2/2014|341417157|  5/8/2014|      1779|    651.21|   524.96|   1158502.59| 933903.84|   224598.75|\n",
            "|  Sub-Saharan Africa|Sao Tome and Prin...|         Fruits|       Online|             C| 6/20/2014|514321792|  7/5/2014|      8102|      9.33|     6.92|     75591.66|  56065.84|    19525.82|\n",
            "|  Sub-Saharan Africa|              Rwanda|Office Supplies|      Offline|             L|  2/1/2013|115456712|  2/6/2013|      5062|    651.21|   524.96|   3296425.02|2657347.52|    639077.5|\n",
            "|Australia and Oce...|     Solomon Islands|      Baby Food|       Online|             C|  2/4/2015|547995746| 2/21/2015|      2974|    255.28|   159.42|    759202.72| 474115.08|   285087.64|\n",
            "|  Sub-Saharan Africa|              Angola|      Household|      Offline|             M| 4/23/2011|135425221| 4/27/2011|      4187|    668.27|   502.54|   2798046.49|2104134.98|   693911.51|\n",
            "|  Sub-Saharan Africa|        Burkina Faso|     Vegetables|       Online|             H| 7/17/2012|871543967| 7/27/2012|      8082|    154.06|    90.93|   1245112.92| 734896.26|   510216.66|\n",
            "|  Sub-Saharan Africa|Republic of the C...|  Personal Care|      Offline|             M| 7/14/2015|770463311| 8/25/2015|      6070|     81.73|    56.67|     496101.1|  343986.9|    152114.2|\n",
            "|  Sub-Saharan Africa|             Senegal|         Cereal|       Online|             H| 4/18/2014|616607081| 5/30/2014|      6593|     205.7|   117.11|    1356180.1| 772106.23|   584073.87|\n",
            "|                Asia|          Kyrgyzstan|     Vegetables|       Online|             H| 6/24/2011|814711606| 7/12/2011|       124|    154.06|    90.93|     19103.44|  11275.32|     7828.12|\n",
            "|  Sub-Saharan Africa|          Cape Verde|        Clothes|      Offline|             H|  8/2/2014|939825713| 8/19/2014|      4168|    109.28|    35.84|    455479.04| 149381.12|   306097.92|\n",
            "|                Asia|          Bangladesh|        Clothes|       Online|             L| 1/13/2017|187310731|  3/1/2017|      8263|    109.28|    35.84|    902980.64| 296145.92|   606834.72|\n",
            "|Central America a...|            Honduras|      Household|      Offline|             H|  2/8/2017|522840487| 2/13/2017|      8974|    668.27|   502.54|   5997054.98|4509793.96|  1487261.02|\n",
            "|                Asia|            Mongolia|  Personal Care|      Offline|             C| 2/19/2014|832401311| 2/23/2014|      4901|     81.73|    56.67|    400558.73| 277739.67|   122819.06|\n",
            "|              Europe|            Bulgaria|        Clothes|       Online|             M| 4/23/2012|972292029|  6/3/2012|      1673|    109.28|    35.84|    182825.44|  59960.32|   122865.12|\n",
            "|                Asia|           Sri Lanka|      Cosmetics|      Offline|             M|11/19/2016|419123971|12/18/2016|      6952|     437.2|   263.33|    3039414.4|1830670.16|  1208744.24|\n",
            "|  Sub-Saharan Africa|            Cameroon|      Beverages|      Offline|             C|  4/1/2015|519820964| 4/18/2015|      5430|     47.45|    31.79|     257653.5|  172619.7|     85033.8|\n",
            "|                Asia|        Turkmenistan|      Household|      Offline|             L|12/30/2010|441619336| 1/20/2011|      3830|    668.27|   502.54|    2559474.1| 1924728.2|    634745.9|\n",
            "|Australia and Oce...|          East Timor|           Meat|       Online|             L| 7/31/2012|322067916| 9/11/2012|      5908|    421.89|   364.69|   2492526.12|2154588.52|    337937.6|\n",
            "+--------------------+--------------------+---------------+-------------+--------------+----------+---------+----------+----------+----------+---------+-------------+----------+------------+\n",
            "only showing top 20 rows\n",
            "\n"
          ]
        }
      ]
    },
    {
      "cell_type": "code",
      "source": [
        "null_counts = df.agg(*[sum(col(c).isNull().cast(\"int\")).alias(c) for c in df.columns])\n",
        "null_counts.show()"
      ],
      "metadata": {
        "colab": {
          "base_uri": "https://localhost:8080/"
        },
        "id": "poRboWqv1_mP",
        "outputId": "f0a2bc6f-5341-4c42-920e-98a29c079dbc"
      },
      "execution_count": 64,
      "outputs": [
        {
          "output_type": "stream",
          "name": "stdout",
          "text": [
            "+----------+--------+---------+----------+---------+----------+------------+---------+------+-------------+-----+-------------------+-----------------+----------------------------+----+--------------+\n",
            "|Order date|Order id|Item Type|unit price|unit cost|units sold|total profit|Ship Date|Region|orders_in_72h|month|avg_units_per_month|margin_percentage|rank_by_profit_per_item_type|year|yearly_revenue|\n",
            "+----------+--------+---------+----------+---------+----------+------------+---------+------+-------------+-----+-------------------+-----------------+----------------------------+----+--------------+\n",
            "|         0|       0|        0|         0|        0|         0|           0|        0|     0|            0|    0|                  0|                0|                           0|   0|             0|\n",
            "+----------+--------+---------+----------+---------+----------+------------+---------+------+-------------+-----+-------------------+-----------------+----------------------------+----+--------------+\n",
            "\n"
          ]
        }
      ]
    },
    {
      "cell_type": "code",
      "source": [
        "region_and_country_with_profit = df.groupBy(col('Region')).sum('Total Profit')\n",
        "region_with_highest_profit = region_and_country_with_profit.orderBy(\"sum(Total Profit)\", ascending=False)\n",
        "print(f\"{region_with_highest_profit['Region']} Region has the highest profit with a total profit of {region_with_highest_profit['sum(Total Profit)']}\")\n",
        "country_with_highest_profit = df.filter(col('Region') == region_with_highest_profit['Region']) \\\n",
        "                                .groupBy(col('Country')).sum('Total Profit') \\\n",
        "                                .orderBy(\"sum(Total Profit)\", ascending=False)\n",
        "print(f\"{country_with_highest_profit['Country']} country, under region {region_with_highest_profit['Region']} has the highest profit with a total profit of {country_with_highest_profit['sum(Total Profit)']}\")\n"
      ],
      "metadata": {
        "colab": {
          "base_uri": "https://localhost:8080/"
        },
        "id": "pwgsMmUo3qXx",
        "outputId": "8b47bd53-4916-40db-f9c4-0c7c0d808094"
      },
      "execution_count": null,
      "outputs": [
        {
          "output_type": "stream",
          "name": "stdout",
          "text": [
            "Column<'Region'> Region has the highest profit with a total profit of Column<'sum(Total Profit)'>\n",
            "Column<'Country'> country, under region Column<'Region'> has the highest profit with a total profit of Column<'sum(Total Profit)'>\n"
          ]
        }
      ]
    },
    {
      "cell_type": "code",
      "source": [
        "orders = df.groupBy(window(col('Order Date'), '72 hours'))\\\n",
        "         .agg(count('Order ID').alias('count_order_id'))\\\n",
        "         .orderBy('count_order_id', ascending=False)\n",
        "\n",
        "\n",
        "print(f\"Highest number of orders ordered under a 72 hr period is {orders.first()}\")\n"
      ],
      "metadata": {
        "colab": {
          "base_uri": "https://localhost:8080/"
        },
        "id": "jlStHB0937VZ",
        "outputId": "bd123942-3b32-4e9c-c790-bd615e33851f"
      },
      "execution_count": null,
      "outputs": [
        {
          "output_type": "stream",
          "name": "stdout",
          "text": [
            "Highest number of orders ordered under a 72 hr period is None\n"
          ]
        }
      ]
    },
    {
      "cell_type": "code",
      "source": [
        "from pyspark.sql.window import Window\n",
        "\n",
        "# Average units sold per month\n",
        "df = df.withColumn(\"month\", month(\"order date\"))\n",
        "df = df.withColumn(\"avg_units_per_month\",avg(\"units sold\").over(Window.partitionBy(\"month\")))\n",
        "\n",
        "# Margin percentage (assuming you have 'unit_price' and 'unit_cost' columns)\n",
        "df = df.withColumn(\"margin_percentage\", ((col(\"unit price\") - col(\"unit cost\")) / col(\"unit price\")) * 100)\n",
        "\n",
        "# Calculate the overall lowest and highest margin percentage\n",
        "lowest_overall_margin = df.agg(min(\"margin_percentage\")).collect()[0][0]\n",
        "highest_overall_margin = df.agg(max(\"margin_percentage\")).collect()[0][0]\n",
        "\n",
        "# Add these as new columns to every row of the DataFrame\n",
        "df = df.withColumn(\"lowest_overall_margin\", lit(lowest_overall_margin))\n",
        "df = df.withColumn(\"highest_overall_margin\", lit(highest_overall_margin))\n",
        "\n",
        "# Top 3 highest value orders per item type\n",
        "window_item_type = Window.partitionBy(\"item type\").orderBy(col(\"total profit\").desc())\n",
        "df = df.withColumn(\"rank\", dense_rank().over(window_item_type))\n",
        "df = df.filter(col(\"rank\") <= 3)\n",
        "\n",
        "#Item most frequently sold on weekends\n",
        "#df = df.withColumn(\"day_of_week\", date_format(\"order date\", \"EEEE\"))\n",
        "df = df.withColumn(\"weekday\", dayofweek(col(\"Order date\")))\n",
        "df = df.withColumn(\"is_weekend\", col(\"weekday\").isin([1, 7]))\n",
        "df = df.withColumn(\"weekend_units_sold\", when(col(\"is_weekend\"), col(\"units sold\")).otherwise(0))\n",
        "Item_most_frequently_sold_on_weekends = df.filter(col(\"is_weekend\")) \\\n",
        "                                           .groupBy(col(\"Item Type\")) \\\n",
        "                                           .agg(sum('units sold').alias(\"total_weekend_units_sold\")) \\\n",
        "                                           .orderBy(\"total_weekend_units_sold\", ascending=False)\n",
        "\n",
        "#Yearly Revenue\n",
        "df = df.withColumn(\"year\", year(\"order date\"))\n",
        "df = df.withColumn(\"yearly_revenue\", sum(\"total profit\").over(Window.partitionBy(\"year\")))\n",
        "\n",
        "df.show()"
      ],
      "metadata": {
        "colab": {
          "base_uri": "https://localhost:8080/"
        },
        "id": "z7u_9e8WaJpz",
        "outputId": "d8eace6b-6851-44f0-c4c1-e6e69e35429e"
      },
      "execution_count": 83,
      "outputs": [
        {
          "output_type": "stream",
          "name": "stdout",
          "text": [
            "+-------------------+--------+---------+----------+---------+----------+------------+-------------------+------------------+-------------+-----+-------------------+------------------+----------------------------+----+--------------+----+---------------------+----------------------+-------+----------+------------------+\n",
            "|         Order date|Order id|Item Type|unit price|unit cost|units sold|total profit|          Ship Date|            Region|orders_in_72h|month|avg_units_per_month| margin_percentage|rank_by_profit_per_item_type|year|yearly_revenue|rank|lowest_overall_margin|highest_overall_margin|weekday|is_weekend|weekend_units_sold|\n",
            "+-------------------+--------+---------+----------+---------+----------+------------+-------------------+------------------+-------------+-----+-------------------+------------------+----------------------------+----+--------------+----+---------------------+----------------------+-------+----------+------------------+\n",
            "|2023-03-18 09:00:00|  ORD008| Keyboard|        55|       30|         4|         100|2023-03-20 10:00:00|              Asia|            1|    3|                3.0| 45.45454545454545|                           1|2023|          4153|   1|   31.818181818181817|                  52.0|      7|      true|                 4|\n",
            "|2023-01-12 12:00:00|  ORD003| Keyboard|        50|       25|         2|          50|2023-01-14 17:00:00|Sub-Saharan Africa|            3|    1|                5.4|              50.0|                           2|2023|          4153|   2|   31.818181818181817|                  52.0|      5|     false|                 0|\n",
            "|2023-01-14 10:00:00|  ORD009|   Laptop|      1050|      700|         4|        1400|2023-01-15 11:00:00|Sub-Saharan Africa|            4|    1|                5.4| 33.33333333333333|                           1|2023|          4153|   1|   31.818181818181817|                  52.0|      7|      true|                 4|\n",
            "|2023-01-13 13:00:00|  ORD004|   Laptop|      1200|      800|         3|        1200|2023-01-15 18:00:00|              Asia|            3|    1|                5.4| 33.33333333333333|                           2|2023|          4153|   2|   31.818181818181817|                  52.0|      6|     false|                 0|\n",
            "|2023-03-01 08:00:00|  ORD007|   Laptop|      1100|      750|         2|         700|2023-03-03 09:00:00|            Europe|            1|    3|                3.0|31.818181818181817|                           3|2023|          4153|   3|   31.818181818181817|                  52.0|      4|     false|                 0|\n",
            "|2023-02-18 11:00:00|  ORD010|  Monitor|       320|      210|         2|         220|2023-02-19 12:00:00|Sub-Saharan Africa|            1|    2|                6.0|            34.375|                           1|2023|          4153|   1|   31.818181818181817|                  52.0|      7|      true|                 2|\n",
            "|2023-02-05 09:00:00|  ORD005|  Monitor|       300|      200|         1|         100|2023-02-07 10:00:00|Sub-Saharan Africa|            1|    2|                6.0| 33.33333333333333|                           2|2023|          4153|   2|   31.818181818181817|                  52.0|      1|      true|                 1|\n",
            "|2023-02-14 14:00:00|  ORD006|    Mouse|        25|       12|        15|         195|2023-02-16 19:00:00|Sub-Saharan Africa|            1|    2|                6.0|              52.0|                           1|2023|          4153|   1|   31.818181818181817|                  52.0|      3|     false|                 0|\n",
            "|2023-01-11 11:00:00|  ORD002|    Mouse|        20|       10|        10|         100|2023-01-13 16:00:00|            Europe|            2|    1|                5.4|              50.0|                           2|2023|          4153|   2|   31.818181818181817|                  52.0|      4|     false|                 0|\n",
            "|2023-01-20 10:00:00|  ORD011|    Mouse|        22|       11|         8|          88|2023-01-21 11:00:00|Sub-Saharan Africa|            1|    1|                5.4|              50.0|                           3|2023|          4153|   3|   31.818181818181817|                  52.0|      6|     false|                 0|\n",
            "+-------------------+--------+---------+----------+---------+----------+------------+-------------------+------------------+-------------+-----+-------------------+------------------+----------------------------+----+--------------+----+---------------------+----------------------+-------+----------+------------------+\n",
            "\n"
          ]
        }
      ]
    }
  ]
}